{
 "cells": [
  {
   "cell_type": "markdown",
   "metadata": {},
   "source": [
    "# Задание 1"
   ]
  },
  {
   "cell_type": "code",
   "execution_count": null,
   "metadata": {},
   "outputs": [],
   "source": [
    "phrase_1 = 'Насколько проще было бы писать программы, если бы не заказчики'\n",
    "phrase_2 = '640Кб должно хватить для любых задач. Билл Гейтс (по легенде)'\n",
    "\n",
    "if len(phrase_1)>=len(phrase_2):\n",
    "    print('Фраза 1 равна или длиннее фразы 2')\n",
    "else:\n",
    "    print('Фраза 2 равна или длиннее фразы 1')"
   ]
  },
  {
   "cell_type": "markdown",
   "metadata": {},
   "source": [
    "# Задание 2"
   ]
  },
  {
   "cell_type": "code",
   "execution_count": 54,
   "metadata": {},
   "outputs": [
    {
     "name": "stdout",
     "output_type": "stream",
     "text": [
      "Введите год числом: 2020\n",
      "2020 Високосный год\n"
     ]
    }
   ],
   "source": [
    "year = int(input('Введите год числом: '))\n",
    "\n",
    "if (year%4 == 0) and (year%100 != 0):\n",
    "    print (str(year) + ' Високосный год')\n",
    "else:\n",
    "    print (str(year) + ' Обычный год')"
   ]
  },
  {
   "cell_type": "markdown",
   "metadata": {},
   "source": [
    "# Задание 3"
   ]
  },
  {
   "cell_type": "code",
   "execution_count": 6,
   "metadata": {},
   "outputs": [
    {
     "name": "stdout",
     "output_type": "stream",
     "text": [
      "Введите день: 20\n",
      "Введите месяц: Октябрь\n",
      "Месяц введен некорретно\n",
      "Ваш знак зодиака: Телец\n"
     ]
    }
   ],
   "source": [
    "\n",
    "# Введите день: \n",
    "day = int(input('Введите день: '))\n",
    "# Введите месяц: \n",
    "month = str(input('Введите месяц: '))\n",
    "\n",
    "\n",
    "if month == 'Январь':\n",
    " x = 1\n",
    "elif month == 'Февраль':\n",
    " x = 2\n",
    "elif month == 'Март':\n",
    " x = 3\n",
    "elif month == 'Апрель':\n",
    " x = 4\n",
    "elif month == 'Май':\n",
    " x = 5    \n",
    "elif month == 'Июнь':\n",
    " x = 6    \n",
    "elif month == 'Июль':\n",
    " x = 7\n",
    "elif month == 'Август':\n",
    " x = 8    \n",
    "elif month == 'Сентябрь':\n",
    " x = 9    \n",
    "elif month == 'Октябрь ':\n",
    " x = 10    \n",
    "elif month == 'Ноябрь':\n",
    " x = 11      \n",
    "elif month == 'Декабрь':\n",
    " x = 12      \n",
    "else:\n",
    " print('Месяц введен некорретно')\n",
    "\n",
    "#print (x)    \n",
    " \n",
    "#print(str(x)+str(day))    \n",
    "\n",
    "y = str(x) + str(day)\n",
    "a = 'Ваш знак зодиака: '    \n",
    "\n",
    "\n",
    "\n",
    "\n",
    "if int(y) >= 321 and int(y)<= 420:\n",
    "    print(a + 'Овен')\n",
    "elif int(y)>=421 and int(y)<=520:\n",
    "    print(a + 'Телец')\n",
    "elif int(y)>=521 and int(y)<=621:\n",
    "    print(a + 'Близнецы')\n",
    "elif int(y)>=622 and int(y)<=722:\n",
    "    print(a + 'Рак')\n",
    "elif int(y)>=723 and int(y)<=823:\n",
    "    print(a + 'Лев')\n",
    "elif int(y)>=824 and int(y)<=923:\n",
    "    print(a + 'Дева')\n",
    "elif int(y)>=924 and int(y)<=1023:\n",
    "    print(a + 'Весы')\n",
    "elif int(y)>=1024 and int(y)<=1122:\n",
    "    print(a + 'Скорпион')\n",
    "elif int(y)>=1123 and int(y)<=1221:\n",
    "    print(a + 'Стрелец')\n",
    "elif int(y)>=1222 and int(y)<=120:\n",
    "    print(a + 'Козерог')\n",
    "elif int(y)>=121 and int(y)<=218:\n",
    "    print(a + 'Водолей')\n",
    "elif int(y)>=219 and int(y)<=320:\n",
    "    print(a + 'Рыбы')\n"
   ]
  },
  {
   "cell_type": "markdown",
   "metadata": {},
   "source": [
    "# Задание 4"
   ]
  },
  {
   "cell_type": "code",
   "execution_count": 52,
   "metadata": {},
   "outputs": [
    {
     "name": "stdout",
     "output_type": "stream",
     "text": [
      "Коробка №2\n"
     ]
    }
   ],
   "source": [
    "\n",
    "width = 16\n",
    "length = 60\n",
    "height = 5\n",
    "\n",
    "\n",
    "if width <15 and length <15 and height <15:\n",
    "    print('Коробка №1')\n",
    "elif (width>15 and width <50) or (length >15 and length <50) or (height >15 and height <50): \n",
    "    print('Коробка №2')\n",
    "elif width <15 and length > 200 and height <15: \n",
    "    print('Упаковка для лыж')\n",
    "else:\n",
    "    print('Стандартная коробка №3')\n"
   ]
  },
  {
   "cell_type": "markdown",
   "metadata": {},
   "source": [
    "# Задание 5"
   ]
  },
  {
   "cell_type": "code",
   "execution_count": 2,
   "metadata": {},
   "outputs": [
    {
     "name": "stdout",
     "output_type": "stream",
     "text": [
      "Неасчастливый билет\n"
     ]
    }
   ],
   "source": [
    "\n",
    "number = '123456' \n",
    "#str(input('Введите 6-ый номер билета: '))\n",
    "\n",
    "a = number[0]\n",
    "b = number[1]\n",
    "c = number[2]\n",
    "d = number[3]\n",
    "e = number[4]\n",
    "f = number[5]\n",
    "\n",
    "\n",
    "if int(a)+int(b)+int(c)==int(d)+int(e)+int(f):\n",
    "    print ('Счастливый билет')\n",
    "else:\n",
    "    print('Неасчастливый билет')"
   ]
  }
 ],
 "metadata": {
  "kernelspec": {
   "display_name": "Python 3",
   "language": "python",
   "name": "python3"
  },
  "language_info": {
   "codemirror_mode": {
    "name": "ipython",
    "version": 3
   },
   "file_extension": ".py",
   "mimetype": "text/x-python",
   "name": "python",
   "nbconvert_exporter": "python",
   "pygments_lexer": "ipython3",
   "version": "3.7.6"
  }
 },
 "nbformat": 4,
 "nbformat_minor": 4
}
